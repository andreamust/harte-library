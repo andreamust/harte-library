{
 "cells": [
  {
   "cell_type": "code",
   "execution_count": 1,
   "metadata": {},
   "outputs": [],
   "source": [
    "import sys\n",
    "\n",
    "sys.path.append(\"./harte\")"
   ]
  },
  {
   "cell_type": "code",
   "execution_count": 2,
   "metadata": {},
   "outputs": [],
   "source": [
    "from harte.harte import Harte"
   ]
  },
  {
   "cell_type": "code",
   "execution_count": 7,
   "metadata": {},
   "outputs": [
    {
     "name": "stdout",
     "output_type": "stream",
     "text": [
      "Chord {B in octave 4 | D-sharp in octave 5 | F-sharp in octave 5 | G-sharp in octave 3 | A-sharp in octave 5} Quarter\n",
      "enharmonic equivalent to minor-ninth chord\n",
      "(<music21.pitch.Pitch B4>, <music21.pitch.Pitch D#5>, <music21.pitch.Pitch F#5>, <music21.pitch.Pitch G#3>, <music21.pitch.Pitch A#5>)\n",
      "[56, 71, 75, 78, 82]\n",
      "6\n",
      "G#3 6\n",
      "B:maj6(7)/6\n"
     ]
    }
   ],
   "source": [
    "c = Harte(\"B:(1,3,5,7)/6\")\n",
    "print(c.fullName)\n",
    "print(c.commonName)\n",
    "print(c.pitches)\n",
    "print(c.get_midi_pitches())\n",
    "print(c.inversion())\n",
    "print(c.bass(), c.get_bass())\n",
    "print(c.prettify())"
   ]
  },
  {
   "cell_type": "code",
   "execution_count": 4,
   "metadata": {},
   "outputs": [
    {
     "name": "stdout",
     "output_type": "stream",
     "text": [
      "[0, 0, 0, 1, 0, 0, 1, 0, 0, 0, 1, 1]\n"
     ]
    }
   ],
   "source": [
    "print(c.multi_hot_encoding(transpose=False))"
   ]
  }
 ],
 "metadata": {
  "kernelspec": {
   "display_name": "harte_library",
   "language": "python",
   "name": "python3"
  },
  "language_info": {
   "codemirror_mode": {
    "name": "ipython",
    "version": 3
   },
   "file_extension": ".py",
   "mimetype": "text/x-python",
   "name": "python",
   "nbconvert_exporter": "python",
   "pygments_lexer": "ipython3",
   "version": "3.10.8"
  }
 },
 "nbformat": 4,
 "nbformat_minor": 2
}
